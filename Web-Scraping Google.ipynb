{
 "cells": [
  {
   "cell_type": "markdown",
   "id": "d23ba110",
   "metadata": {},
   "source": [
    "# Imports"
   ]
  },
  {
   "cell_type": "code",
   "execution_count": 1,
   "id": "0b4b49f7",
   "metadata": {},
   "outputs": [],
   "source": [
    "import os\n",
    "import wget\n",
    "from selenium import webdriver\n",
    "from selenium.webdriver.common.by import By\n",
    "from selenium.webdriver.common.keys import Keys\n",
    "from selenium.webdriver.support.wait import WebDriverWait\n",
    "from selenium.webdriver.support import expected_conditions as EC"
   ]
  },
  {
   "cell_type": "markdown",
   "id": "86147f53",
   "metadata": {},
   "source": [
    "# Open Chrome & Search Google"
   ]
  },
  {
   "cell_type": "code",
   "execution_count": 2,
   "id": "3f84283d",
   "metadata": {},
   "outputs": [],
   "source": [
    "# Connect web driver to notebook\n",
    "driver = webdriver.Chrome(\"F:/Python Web-Scarping/chromedriver.exe\")\n",
    "\n",
    "# Specify which webpage we want to open\n",
    "driver.get(\"https://www.google.com/\")"
   ]
  },
  {
   "cell_type": "markdown",
   "id": "faeab92e",
   "metadata": {},
   "source": [
    "# Go to the text box"
   ]
  },
  {
   "cell_type": "code",
   "execution_count": 3,
   "id": "2ef97aba",
   "metadata": {},
   "outputs": [],
   "source": [
    "import time\n",
    "\n",
    "time.sleep(5)\n",
    "search = driver.find_element_by_name('q')\n",
    "txt = \"naruto\"\n",
    "search.send_keys(txt)\n",
    "\n",
    "# Enter Key\n",
    "submit_btn = driver.find_element_by_css_selector(\"input[type=submit]\")\n",
    "time.sleep(5)\n",
    "submit_btn.click()"
   ]
  },
  {
   "cell_type": "code",
   "execution_count": null,
   "id": "cf95101d",
   "metadata": {},
   "outputs": [],
   "source": []
  }
 ],
 "metadata": {
  "kernelspec": {
   "display_name": "Python 3 (ipykernel)",
   "language": "python",
   "name": "python3"
  },
  "language_info": {
   "codemirror_mode": {
    "name": "ipython",
    "version": 3
   },
   "file_extension": ".py",
   "mimetype": "text/x-python",
   "name": "python",
   "nbconvert_exporter": "python",
   "pygments_lexer": "ipython3",
   "version": "3.8.8"
  }
 },
 "nbformat": 4,
 "nbformat_minor": 5
}
