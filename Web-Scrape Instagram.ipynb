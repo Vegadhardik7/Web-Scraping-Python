{
 "cells": [
  {
   "cell_type": "markdown",
   "id": "be37a118",
   "metadata": {},
   "source": [
    "# Imports"
   ]
  },
  {
   "cell_type": "code",
   "execution_count": 1,
   "id": "8c67964b",
   "metadata": {},
   "outputs": [],
   "source": [
    "import os\n",
    "import wget\n",
    "from selenium import webdriver\n",
    "from selenium.webdriver.common.by import By\n",
    "from selenium.webdriver.common.keys import Keys\n",
    "from selenium.webdriver.support.wait import WebDriverWait\n",
    "from selenium.webdriver.support import expected_conditions as EC"
   ]
  },
  {
   "cell_type": "markdown",
   "id": "411d07ff",
   "metadata": {},
   "source": [
    "# Download Chrome Driver"
   ]
  },
  {
   "cell_type": "markdown",
   "id": "0316691d",
   "metadata": {},
   "source": [
    "From: chrome drivers"
   ]
  },
  {
   "cell_type": "markdown",
   "id": "641ed1b7",
   "metadata": {},
   "source": [
    "# Login To Instragram Account"
   ]
  },
  {
   "cell_type": "code",
   "execution_count": 2,
   "id": "d50a8c30",
   "metadata": {},
   "outputs": [],
   "source": [
    "# Connect web driver to notebook\n",
    "driver = webdriver.Chrome(\"F:/Python Web-Scarping/chromedriver.exe\")\n",
    "\n",
    "# Specify which webpage we want to open\n",
    "driver.get(\"https://www.instagram.com/\")"
   ]
  },
  {
   "cell_type": "code",
   "execution_count": 3,
   "id": "13ea84a1",
   "metadata": {},
   "outputs": [],
   "source": [
    "username = WebDriverWait(driver, 10).until(EC.element_to_be_clickable((By.CSS_SELECTOR, \"input[name='username']\")))\n",
    "password = WebDriverWait(driver, 10).until(EC.element_to_be_clickable((By.CSS_SELECTOR, \"input[name='password']\")))"
   ]
  },
  {
   "cell_type": "code",
   "execution_count": 4,
   "id": "8a46cc16",
   "metadata": {},
   "outputs": [],
   "source": [
    "username.clear()\n",
    "password.clear()"
   ]
  },
  {
   "cell_type": "code",
   "execution_count": 5,
   "id": "154f818a",
   "metadata": {},
   "outputs": [],
   "source": [
    "username.send_keys(\"vegadhardik6969\")\n",
    "password.send_keys(\"********\")"
   ]
  },
  {
   "cell_type": "code",
   "execution_count": 6,
   "id": "e2e884db",
   "metadata": {},
   "outputs": [],
   "source": [
    "log_in = WebDriverWait(driver, 10).until(EC.element_to_be_clickable((By.CSS_SELECTOR, \"button[type='submit']\")))"
   ]
  },
  {
   "cell_type": "code",
   "execution_count": 7,
   "id": "4bcc3629",
   "metadata": {},
   "outputs": [],
   "source": [
    "log_in.click()"
   ]
  },
  {
   "cell_type": "code",
   "execution_count": 8,
   "id": "6732eacd",
   "metadata": {},
   "outputs": [],
   "source": [
    "not_now = WebDriverWait(driver, 10).until(EC.element_to_be_clickable((By.XPATH,\"//button[contains(text(),'Not Now')]\"))).click()\n",
    "not_now2 = WebDriverWait(driver, 10).until(EC.element_to_be_clickable((By.XPATH,\"//button[contains(text(),'Not Now')]\"))).click()"
   ]
  },
  {
   "cell_type": "markdown",
   "id": "12ce9965",
   "metadata": {},
   "source": [
    "# Search Values"
   ]
  },
  {
   "cell_type": "code",
   "execution_count": 9,
   "id": "46b8a5a8",
   "metadata": {},
   "outputs": [],
   "source": [
    "search_box = WebDriverWait(driver, 10).until(EC.element_to_be_clickable((By.XPATH, \"//input[@placeholder='Search']\")))\n",
    "search_box.clear()"
   ]
  },
  {
   "cell_type": "code",
   "execution_count": 10,
   "id": "298358d5",
   "metadata": {},
   "outputs": [],
   "source": [
    "keyword = \"#guitar\"  # Iterate id's over this\n",
    "search_box.send_keys(keyword)"
   ]
  },
  {
   "cell_type": "code",
   "execution_count": 11,
   "id": "b1fe8593",
   "metadata": {},
   "outputs": [],
   "source": [
    "import time\n",
    "\n",
    "# Enter Key\n",
    "# Wait for 5 seconds\n",
    "time.sleep(5)\n",
    "search_box.send_keys(Keys.ENTER)\n",
    "time.sleep(5)\n",
    "search_box.send_keys(Keys.ENTER)\n",
    "time.sleep(5)"
   ]
  },
  {
   "cell_type": "markdown",
   "id": "fa63ca54",
   "metadata": {},
   "source": [
    "# Scorlling"
   ]
  },
  {
   "cell_type": "code",
   "execution_count": 16,
   "id": "ca73a245",
   "metadata": {},
   "outputs": [
    {
     "data": {
      "text/plain": [
       "['https://instagram.fbom13-1.fna.fbcdn.net/v/t51.2885-15/e35/271048240_618258289410736_3858301796872007060_n.jpg?_nc_ht=instagram.fbom13-1.fna.fbcdn.net&_nc_cat=104&_nc_ohc=jTj_hBv4zc8AX8lptHv&tn=uidcmiLv6mmJxPma&edm=ABZsPhsBAAAA&ccb=7-4&ig_cache_key=Mjc0MDk2NTA1NjY2MTc4OTY2Mg%3D%3D.2-ccb7-4&oh=00_AT-FYjjSosmJK-38LBsokRrnby3ozYhEzTh0A03jZStlIg&oe=61D805B6&_nc_sid=4efc9f',\n",
       " 'https://instagram.fbom13-1.fna.fbcdn.net/v/t51.2885-15/e35/271048240_618258289410736_3858301796872007060_n.jpg?_nc_ht=instagram.fbom13-1.fna.fbcdn.net&_nc_cat=104&_nc_ohc=jTj_hBv4zc8AX8lptHv&tn=uidcmiLv6mmJxPma&edm=ABZsPhsBAAAA&ccb=7-4&ig_cache_key=Mjc0MDk2NTA1NjY2MTc4OTY2Mg%3D%3D.2-ccb7-4&oh=00_AT-FYjjSosmJK-38LBsokRrnby3ozYhEzTh0A03jZStlIg&oe=61D805B6&_nc_sid=4efc9f',\n",
       " 'https://instagram.fbom13-1.fna.fbcdn.net/v/t51.2885-15/e35/270492374_242445128032135_1340895853958840901_n.jpg?_nc_ht=instagram.fbom13-1.fna.fbcdn.net&_nc_cat=107&_nc_ohc=gS3giFtSujQAX_8yAwy&edm=ABZsPhsBAAAA&ccb=7-4&ig_cache_key=Mjc0MTA3NTk5Nzk1NjYwMzAzMw%3D%3D.2-ccb7-4&oh=00_AT8ylKKQ0z4LvCDvTeOVXSbNSjT9PS0WUrc5I3jHFlCDMA&oe=61D63E46&_nc_sid=4efc9f',\n",
       " 'https://instagram.fbom13-1.fna.fbcdn.net/v/t51.2885-15/fr/e15/s1080x1080/270702240_478221007152682_5712843307511651119_n.jpg?_nc_ht=instagram.fbom13-1.fna.fbcdn.net&_nc_cat=110&_nc_ohc=PizMnZZpFMwAX9icv_R&edm=ABZsPhsBAAAA&ccb=7-4&ig_cache_key=Mjc0MDkxNzEyMDgxNzk1MDEyNA%3D%3D.2-ccb7-4&oh=00_AT9NN4JxnbAi6_d1oh2tnljZ5KbUuYxXbWz_9Bv-veT-Bw&oe=61D6A666&_nc_sid=4efc9f',\n",
       " 'https://instagram.fbom13-1.fna.fbcdn.net/v/t51.2885-15/e35/270575381_611406760087696_5224724361303069056_n.jpg?_nc_ht=instagram.fbom13-1.fna.fbcdn.net&_nc_cat=104&_nc_ohc=YHwiSb7AnugAX_2ST07&edm=ABZsPhsBAAAA&ccb=7-4&ig_cache_key=Mjc0MTM1MjA4MjM2NDk2MzAwNQ%3D%3D.2-ccb7-4&oh=00_AT_f_t72VRwOKXMW6bDCwgaxkyEPru-4gn-s2Xvx855PJg&oe=61D7EBEA&_nc_sid=4efc9f',\n",
       " 'https://instagram.fbom13-1.fna.fbcdn.net/v/t51.2885-15/e35/271026543_3143728439237408_3262311928045162153_n.jpg?_nc_ht=instagram.fbom13-1.fna.fbcdn.net&_nc_cat=108&_nc_ohc=sb-M-eMh4aQAX895a3Y&edm=ABZsPhsBAAAA&ccb=7-4&ig_cache_key=Mjc0MDk3MzQwNjMwNTc5MDY0MQ%3D%3D.2-ccb7-4&oh=00_AT8eEzMhoQSzzcUzefMd6aLRAR3qb_h3r1RPRRklJMiLgg&oe=61D7B8E6&_nc_sid=4efc9f',\n",
       " 'https://instagram.fbom13-1.fna.fbcdn.net/v/t51.2885-15/e35/270272918_316518377035567_8973626861682533228_n.jpg?_nc_ht=instagram.fbom13-1.fna.fbcdn.net&_nc_cat=107&_nc_ohc=cYHgme_Hz8QAX_XhBX9&edm=ABZsPhsBAAAA&ccb=7-4&ig_cache_key=Mjc0MDkwOTE1ODU1MzkwODUwNQ%3D%3D.2-ccb7-4&oh=00_AT8po4BIqqpr5292C-0S_yRuJsz9yzH6pVpzFUxnjY41_A&oe=61D7BB7E&_nc_sid=4efc9f',\n",
       " 'https://instagram.fbom13-1.fna.fbcdn.net/v/t51.2885-15/e35/270327574_978007813093271_9222555779789804799_n.jpg?_nc_ht=instagram.fbom13-1.fna.fbcdn.net&_nc_cat=111&_nc_ohc=jjPlSmj1KbEAX9w9fZ-&edm=ABZsPhsBAAAA&ccb=7-4&ig_cache_key=Mjc0MTEzNDQ4NDQwMDE0NTEwMg%3D%3D.2-ccb7-4&oh=00_AT8s-X4SlUkCa1zdZpbNhwxsxnA7sdwTeTSiqDmoT79A0w&oe=61D6FCB9&_nc_sid=4efc9f',\n",
       " 'https://instagram.fbom13-1.fna.fbcdn.net/v/t51.2885-15/e35/270768049_928105937884345_6113345730214990639_n.jpg?_nc_ht=instagram.fbom13-1.fna.fbcdn.net&_nc_cat=101&_nc_ohc=qW6BuMuajIAAX-C6Spb&edm=ABZsPhsBAAAA&ccb=7-4&ig_cache_key=Mjc0MDk4Mzk4NDQxNDg0MzUzNw%3D%3D.2-ccb7-4&oh=00_AT-co8px9hS2bH0BThMW259qKTl3jjRhulc4nFFW-llM_w&oe=61D6FC5D&_nc_sid=4efc9f',\n",
       " 'https://instagram.fbom13-1.fna.fbcdn.net/v/t51.2885-15/e35/270442846_627044195158411_4089513496286213781_n.jpg?_nc_ht=instagram.fbom13-1.fna.fbcdn.net&_nc_cat=107&_nc_ohc=kvpnJm_FswwAX-vo-QU&tn=uidcmiLv6mmJxPma&edm=ABZsPhsBAAAA&ccb=7-4&ig_cache_key=Mjc0MTA1MTI2MzI2NzU2NDk5NQ%3D%3D.2-ccb7-4&oh=00_AT-8TmdAN6rKF3vkZKrXFgo96VUw0hbNnws3GOGbIUHTCQ&oe=61D6BAE7&_nc_sid=4efc9f',\n",
       " 'https://instagram.fbom13-1.fna.fbcdn.net/v/t51.2885-15/e35/271144553_3133917753556867_5145833706617489009_n.jpg?_nc_ht=instagram.fbom13-1.fna.fbcdn.net&_nc_cat=107&_nc_ohc=JU8z6hdHCtgAX_Zs4ZB&edm=ABZsPhsBAAAA&ccb=7-4&ig_cache_key=Mjc0MTQ4NTg4ODM5Nzg0MzA0OQ%3D%3D.2-ccb7-4&oh=00_AT_0i7ZKsUyxum122nPpWYW3yf4L1fmL9dysEZjQFraz3Q&oe=61D6803F&_nc_sid=4efc9f',\n",
       " 'https://instagram.fbom13-1.fna.fbcdn.net/v/t51.2885-15/e35/271043228_463226368657274_4509163594605596728_n.jpg?_nc_ht=instagram.fbom13-1.fna.fbcdn.net&_nc_cat=102&_nc_ohc=NcGAqYGfWsUAX-bd3OO&edm=ABZsPhsBAAAA&ccb=7-4&ig_cache_key=Mjc0MTQ4NDU0ODA1NDgxNzQxNA%3D%3D.2-ccb7-4&oh=00_AT-h_hngXnBzOFJoDeVl9cjSHuA1D-WxZn2w001f5xTYGw&oe=61D6C5B3&_nc_sid=4efc9f',\n",
       " 'https://instagram.fbom13-1.fna.fbcdn.net/v/t51.2885-15/e35/271137571_445473570565518_1104331960408419173_n.jpg?_nc_ht=instagram.fbom13-1.fna.fbcdn.net&_nc_cat=106&_nc_ohc=3obTe4Ax1lwAX-YIz1b&edm=ABZsPhsBAAAA&ccb=7-4&ig_cache_key=Mjc0MTQ4NDc4NTAxNzk2MjQxNw%3D%3D.2-ccb7-4&oh=00_AT9H8_BHbBRNBNg3BIqsPwwbEmuJnksdTP4ybpvAKPzziw&oe=61D63AA1&_nc_sid=4efc9f',\n",
       " 'https://instagram.fbom13-1.fna.fbcdn.net/v/t51.2885-15/e35/270942877_4754314874661854_4896727910643727238_n.jpg?_nc_ht=instagram.fbom13-1.fna.fbcdn.net&_nc_cat=102&_nc_ohc=TnWXboCuJTsAX8m3kBC&edm=ABZsPhsBAAAA&ccb=7-4&ig_cache_key=Mjc0MTQ4NTUzNTQ4OTA2MDI4Mw%3D%3D.2-ccb7-4&oh=00_AT_eyL41_hPi3PV1_xIC7lWnwmkI5PNH7xi_93BNqjLJUQ&oe=61D6E052&_nc_sid=4efc9f',\n",
       " 'https://instagram.fbom13-1.fna.fbcdn.net/v/t51.2885-15/e35/270598574_112278714604196_1163269344490178475_n.jpg?_nc_ht=instagram.fbom13-1.fna.fbcdn.net&_nc_cat=108&_nc_ohc=uQGpwNCLrYcAX-ydxww&edm=ABZsPhsBAAAA&ccb=7-4&ig_cache_key=Mjc0MTQ4NTU1Mjc2MTIxODQ5Nw%3D%3D.2-ccb7-4&oh=00_AT904m8oWl5nqAoasoJpR-7x9_t802_0mGmOOJ-QtEdj7A&oe=61D6B361&_nc_sid=4efc9f',\n",
       " 'https://instagram.fbom13-1.fna.fbcdn.net/v/t51.2885-15/e15/p640x640/270698966_459456515671385_9112267107822551164_n.jpg?_nc_ht=instagram.fbom13-1.fna.fbcdn.net&_nc_cat=105&_nc_ohc=IYWiWQDa494AX89YoPW&edm=ABZsPhsBAAAA&ccb=7-4&ig_cache_key=Mjc0MTQ4Mjg0MzMyMzY0OTk5NQ%3D%3D.2-ccb7-4&oh=00_AT-OXHHwLTCz5JAX2PwTNrFOKHM9tpvm-yS4wbvBvBonBQ&oe=61D7E473&_nc_sid=4efc9f',\n",
       " 'https://instagram.fbom13-1.fna.fbcdn.net/v/t51.2885-15/e35/271049651_3116666371949817_8803972087645966319_n.jpg?_nc_ht=instagram.fbom13-1.fna.fbcdn.net&_nc_cat=109&_nc_ohc=-ty1Pp0UesoAX9jEwHj&tn=uidcmiLv6mmJxPma&edm=ABZsPhsBAAAA&ccb=7-4&ig_cache_key=Mjc0MTQ4NDI0Njg0ODI1ODkwMA%3D%3D.2-ccb7-4&oh=00_AT8vNUh6sR8x_wbY942jIJm9i9rDw-MuK_jlKnhrZca5_Q&oe=61D719FD&_nc_sid=4efc9f',\n",
       " 'https://instagram.fbom13-1.fna.fbcdn.net/v/t51.2885-15/e35/271049320_612682399998156_7910775600944512741_n.jpg?_nc_ht=instagram.fbom13-1.fna.fbcdn.net&_nc_cat=100&_nc_ohc=2nOEzKtIbDUAX9cpXPH&edm=ABZsPhsBAAAA&ccb=7-4&ig_cache_key=Mjc0MTQ4NDk1MjYwNjA3MjEzNg%3D%3D.2-ccb7-4&oh=00_AT_KL-rBtzn0DKPCV1gwVhRgr8BtelUdb9Lxt6qUodXcNw&oe=61D67BFD&_nc_sid=4efc9f',\n",
       " 'https://instagram.fbom13-1.fna.fbcdn.net/v/t51.2885-15/e35/270755971_2977078189288660_3156566624189213841_n.jpg?_nc_ht=instagram.fbom13-1.fna.fbcdn.net&_nc_cat=104&_nc_ohc=2Dqe86WVXWgAX8aewQh&edm=ABZsPhsBAAAA&ccb=7-4&ig_cache_key=Mjc0MTQ4NTUyNzQzNjI3ODQ5OA%3D%3D.2-ccb7-4&oh=00_AT-OatBqqkU5fUQScg3T0ZGrU4bkQtBYduvoRSOMRemSog&oe=61D6586B&_nc_sid=4efc9f',\n",
       " 'https://instagram.fbom13-1.fna.fbcdn.net/v/t51.2885-15/e35/271145519_492656012492930_1172044400180110892_n.jpg?_nc_ht=instagram.fbom13-1.fna.fbcdn.net&_nc_cat=102&_nc_ohc=9zZr0wdhSpcAX_6ynMQ&edm=ABZsPhsBAAAA&ccb=7-4&ig_cache_key=Mjc0MTQ4NTQ4NzQ1NDEwNjEwNA%3D%3D.2-ccb7-4&oh=00_AT8nHpFZtWGbX_0FXko9BrfutxpN2ATtw0-yogzfEY81UQ&oe=61D6B86D&_nc_sid=4efc9f',\n",
       " 'https://instagram.fbom13-1.fna.fbcdn.net/v/t51.2885-15/e35/270971808_656257118720795_1045740881962839293_n.jpg?_nc_ht=instagram.fbom13-1.fna.fbcdn.net&_nc_cat=111&_nc_ohc=k9Ifa5YvwO0AX8nPOjp&edm=ABZsPhsBAAAA&ccb=7-4&ig_cache_key=Mjc0MTQ4NDEwMzc1NTgyMTMxMg%3D%3D.2-ccb7-4&oh=00_AT819nOCTQ8Jf0kg3FnkbyYv3uCSkJ4Kz2-K-CbEQ-xvLw&oe=61D7FDF3&_nc_sid=4efc9f',\n",
       " 'https://instagram.fbom13-1.fna.fbcdn.net/v/t51.2885-15/e35/271218832_5169433589756836_8606888254368681633_n.jpg?_nc_ht=instagram.fbom13-1.fna.fbcdn.net&_nc_cat=104&_nc_ohc=xRNhZKoZMDIAX8d5W-O&edm=ABZsPhsBAAAA&ccb=7-4&ig_cache_key=Mjc0MTQ4MzUyNzgzMjExNzEyNg%3D%3D.2-ccb7-4&oh=00_AT9paZ9cVmYxnE0dC_zd4IEIESDWb6jdaBQfj02DOtHNBQ&oe=61D7DDE2&_nc_sid=4efc9f',\n",
       " 'https://instagram.fbom13-1.fna.fbcdn.net/v/t51.2885-15/e35/271102937_245416047669095_3635252484419217469_n.jpg?_nc_ht=instagram.fbom13-1.fna.fbcdn.net&_nc_cat=111&_nc_ohc=ORx47oUYAI4AX_jiTH8&edm=ABZsPhsBAAAA&ccb=7-4&ig_cache_key=Mjc0MTQ4Mzg4MjY2MjkzNzk3NA%3D%3D.2-ccb7-4&oh=00_AT-Gisexm5utNRQw8bxbKXVPxRncFX6xGIippaJrp6R3wg&oe=61D7E906&_nc_sid=4efc9f',\n",
       " 'https://instagram.fbom13-1.fna.fbcdn.net/v/t51.2885-15/e35/270751190_4500043210118766_695070754940650536_n.jpg?_nc_ht=instagram.fbom13-1.fna.fbcdn.net&_nc_cat=106&_nc_ohc=IzOSM0_jbzYAX9LzXXx&edm=ABZsPhsBAAAA&ccb=7-4&ig_cache_key=Mjc0MTQ4Mjc1MjI5MDYzODIyOQ%3D%3D.2-ccb7-4&oh=00_AT9OAdTGdbgjFlv9Jg3rZxmB1teqVwxLcLp7kR5w7wmS2w&oe=61D733DE&_nc_sid=4efc9f',\n",
       " 'https://instagram.fbom13-1.fna.fbcdn.net/v/t51.2885-15/e35/271111882_352116579593510_3890864527232458493_n.jpg?_nc_ht=instagram.fbom13-1.fna.fbcdn.net&_nc_cat=102&_nc_ohc=HvreiZTW-tYAX-1GFnz&edm=ABZsPhsBAAAA&ccb=7-4&ig_cache_key=Mjc0MTQ4MzM5MTk3MjA0ODY4Mw%3D%3D.2-ccb7-4&oh=00_AT9HOHZvrzSw6t74W6eRn2h0fYGSl1Q2jEBEnDR8M8otDg&oe=61D769AB&_nc_sid=4efc9f',\n",
       " 'https://instagram.fbom13-1.fna.fbcdn.net/v/t51.2885-15/e35/270656367_444700673791827_2725102730808367615_n.jpg?_nc_ht=instagram.fbom13-1.fna.fbcdn.net&_nc_cat=103&_nc_ohc=WaFSrnx92ZcAX8oV7KI&edm=ABZsPhsBAAAA&ccb=7-4&ig_cache_key=Mjc0MTQ4NDU0MDc5MzcyMjU1OA%3D%3D.2-ccb7-4&oh=00_AT-Fx2Ew3lT6gPkp9XWqby4eCOxZ61oY6haUr0kP0sk_kw&oe=61D78A34&_nc_sid=4efc9f',\n",
       " 'https://instagram.fbom13-1.fna.fbcdn.net/v/t51.2885-15/e35/271107917_3112841398994603_8806159082299741635_n.jpg?_nc_ht=instagram.fbom13-1.fna.fbcdn.net&_nc_cat=111&_nc_ohc=RMpBITjw_LEAX-TW8Nt&edm=ABZsPhsBAAAA&ccb=7-4&ig_cache_key=Mjc0MTQ3NDA0MDQ4NTM5Mzc3Nw%3D%3D.2-ccb7-4&oh=00_AT8pDrAKcsoknOp5lnTEP_yE3FOS0coyqzj8tTByDjnTVg&oe=61D7C188&_nc_sid=4efc9f',\n",
       " 'https://instagram.fbom13-1.fna.fbcdn.net/v/t51.2885-15/e35/270885147_324363202895832_1581384737916853829_n.jpg?_nc_ht=instagram.fbom13-1.fna.fbcdn.net&_nc_cat=100&_nc_ohc=XLwm6bEcYVoAX-1sSCQ&edm=ABZsPhsBAAAA&ccb=7-4&ig_cache_key=Mjc0MTQ4MzUxMjkxOTgxNzMzMA%3D%3D.2-ccb7-4&oh=00_AT97eg6VygFvcOSgAdwHJVI0NhFizRu_rTanhcYcsSeRYw&oe=61D6EF67&_nc_sid=4efc9f',\n",
       " 'https://instagram.fbom13-1.fna.fbcdn.net/v/t51.2885-15/e35/270271988_320879156566690_2462822148147121934_n.jpg?_nc_ht=instagram.fbom13-1.fna.fbcdn.net&_nc_cat=110&_nc_ohc=mfmBQTehUEEAX_hu0p9&edm=ABZsPhsBAAAA&ccb=7-4&ig_cache_key=Mjc0MTQ4Mzk3OTUzMzY4NDk4Mw%3D%3D.2-ccb7-4&oh=00_AT-QPFP-ktzzHnvU53S3_ioLG-z00fIlwWngDmYaZNETuQ&oe=61D7A4F4&_nc_sid=4efc9f',\n",
       " 'https://instagram.fbom13-1.fna.fbcdn.net/v/t51.2885-15/e35/271211782_720562072198192_4539723665048011961_n.jpg?_nc_ht=instagram.fbom13-1.fna.fbcdn.net&_nc_cat=104&_nc_ohc=TSQrKz79ow4AX9tcFn4&tn=uidcmiLv6mmJxPma&edm=ABZsPhsBAAAA&ccb=7-4&ig_cache_key=Mjc0MTQ4MzMyODUwNTQ2NDk3Nw%3D%3D.2-ccb7-4&oh=00_AT9uftYyRyCbiSRib9SmWb4O6z1o8klvy9XtgtrG6u4rRg&oe=61D7BD21&_nc_sid=4efc9f',\n",
       " 'https://instagram.fbom13-1.fna.fbcdn.net/v/t51.2885-15/e35/270737799_408202427759664_5016140086092146634_n.jpg?_nc_ht=instagram.fbom13-1.fna.fbcdn.net&_nc_cat=100&_nc_ohc=q9DCem5MxEcAX8tzIlY&edm=ABZsPhsBAAAA&ccb=7-4&ig_cache_key=Mjc0MTQ3OTY2ODMxMDMxODEyNA%3D%3D.2-ccb7-4&oh=00_AT-V85T1m-WjUH6_S7_wRbMEQidaczm0zLO8bJ3gUTU9JA&oe=61D72677&_nc_sid=4efc9f',\n",
       " 'https://instagram.fbom13-1.fna.fbcdn.net/v/t51.2885-15/e35/270971316_1263062680870607_8326964277527689086_n.jpg?_nc_ht=instagram.fbom13-1.fna.fbcdn.net&_nc_cat=111&_nc_ohc=_uYTkDp4tpkAX8GD_4C&edm=ABZsPhsBAAAA&ccb=7-4&ig_cache_key=Mjc0MTQ4MjkyNDU1OTUzNjU1OA%3D%3D.2-ccb7-4&oh=00_AT_ERx0TIPQ90U3NnEBhL22gNY7GFZEyzlShioSAUnRUyw&oe=61D6F32A&_nc_sid=4efc9f',\n",
       " 'https://instagram.fbom13-1.fna.fbcdn.net/v/t51.2885-15/e35/271280052_443745800741877_5179503053936569632_n.jpg?_nc_ht=instagram.fbom13-1.fna.fbcdn.net&_nc_cat=109&_nc_ohc=TT6PxCn4YxUAX-Nr0z8&edm=ABZsPhsBAAAA&ccb=7-4&ig_cache_key=Mjc0MTQ4MzMwNTk2NDYzNjkzNw%3D%3D.2-ccb7-4&oh=00_AT_EkPdNHwu3m9xvXeVA7-Zk7Ru2xX1O9AalHHAcIJWNHg&oe=61D61394&_nc_sid=4efc9f',\n",
       " 'https://instagram.fbom13-1.fna.fbcdn.net/v/t51.2885-15/e35/270963033_276094464724443_8012537527132379313_n.jpg?_nc_ht=instagram.fbom13-1.fna.fbcdn.net&_nc_cat=103&_nc_ohc=UAK7B91vU_sAX-405XZ&tn=uidcmiLv6mmJxPma&edm=ABZsPhsBAAAA&ccb=7-4&ig_cache_key=Mjc0MTQ4MjkxMDIzMjE1MDIxNw%3D%3D.2-ccb7-4&oh=00_AT-UnyEk7eguu_PPJ8W8GpJFVQ_sA4Z1xwD-GXdjjcabtA&oe=61D64980&_nc_sid=4efc9f',\n",
       " 'https://instagram.fbom13-1.fna.fbcdn.net/v/t51.2885-15/e35/271002501_1713085582356526_1008193294710930884_n.jpg?_nc_ht=instagram.fbom13-1.fna.fbcdn.net&_nc_cat=110&_nc_ohc=WX_aIt3rEIMAX_6_kKX&edm=ABZsPhsBAAAA&ccb=7-4&ig_cache_key=Mjc0MTQ4MjgzNDc0MTM4MjUxNg%3D%3D.2-ccb7-4&oh=00_AT9LNaU9w7hr-EToH8hHqZTFRnHgWq0vSh3aEBLIELWQbA&oe=61D6508E&_nc_sid=4efc9f',\n",
       " 'https://instagram.fbom13-1.fna.fbcdn.net/v/t51.2885-15/e35/271150985_268102918720724_2809116621978945387_n.jpg?_nc_ht=instagram.fbom13-1.fna.fbcdn.net&_nc_cat=108&_nc_ohc=y_WGbmMTf8wAX_3apAI&edm=ABZsPhsBAAAA&ccb=7-4&ig_cache_key=Mjc0MTQ4MTc2MTA4NDk4ODM4Nw%3D%3D.2-ccb7-4&oh=00_AT8ghXfob5-jhy9_0ODQU95lF1b75Sv3GshDLOeskBWhOw&oe=61D6CAAE&_nc_sid=4efc9f',\n",
       " 'https://instagram.fbom13-1.fna.fbcdn.net/v/t51.2885-15/e35/270744190_859641621509812_3752573827520377913_n.jpg?_nc_ht=instagram.fbom13-1.fna.fbcdn.net&_nc_cat=104&_nc_ohc=NVIKUa3c6-MAX-kzkyD&edm=ABZsPhsBAAAA&ccb=7-4&ig_cache_key=Mjc0MTM4OTE5Mjg1MzUxODg4OA%3D%3D.2-ccb7-4&oh=00_AT_0Vlzi7jLouqTmo-eOBaJRRHNTsxWyg9-GOV7IAtIMUw&oe=61D7CF68&_nc_sid=4efc9f',\n",
       " 'https://instagram.fbom13-1.fna.fbcdn.net/v/t51.2885-15/e35/270408255_1274014556342232_994980235982398471_n.jpg?_nc_ht=instagram.fbom13-1.fna.fbcdn.net&_nc_cat=100&_nc_ohc=kh4rzSxQvhEAX9Ak9pK&edm=ABZsPhsBAAAA&ccb=7-4&ig_cache_key=Mjc0MTEzNDMyMzY0NjY5NzgwMQ%3D%3D.2-ccb7-4&oh=00_AT9R_O-mlJNszJQeINvxuHJyKxeN_UPCjKtCUS2ynTD2_A&oe=61D7D1E9&_nc_sid=4efc9f',\n",
       " 'https://instagram.fbom13-1.fna.fbcdn.net/v/t51.2885-15/e35/270632256_771979583719856_8580139755307525614_n.jpg?_nc_ht=instagram.fbom13-1.fna.fbcdn.net&_nc_cat=108&_nc_ohc=0hs3vTL1tKwAX9g5f4G&tn=uidcmiLv6mmJxPma&edm=ABZsPhsBAAAA&ccb=7-4&ig_cache_key=Mjc0MDcyMzMwOTMyMDYwMTczNg%3D%3D.2-ccb7-4&oh=00_AT_gzyHNuxRTVBPuYAQrhlg_pUEnUPV8gi3vrrUoaytn2A&oe=61D674EA&_nc_sid=4efc9f',\n",
       " 'https://instagram.fbom13-1.fna.fbcdn.net/v/t51.2885-15/e35/270063233_1264948220683096_3919198028216813443_n.jpg?_nc_ht=instagram.fbom13-1.fna.fbcdn.net&_nc_cat=104&_nc_ohc=sB-AlWdYwG8AX_b0UwX&tn=uidcmiLv6mmJxPma&edm=ABZsPhsBAAAA&ccb=7-4&ig_cache_key=MjczODY2MTMxMDA1ODYxNjc5MA%3D%3D.2-ccb7-4&oh=00_AT_bzhnSUctEHVyxAgk0-R74Xdm3IZW37cSJliGYnce_Dw&oe=61D62284&_nc_sid=4efc9f',\n",
       " 'https://instagram.fbom13-1.fna.fbcdn.net/v/t51.2885-15/e35/270842214_3144467352453529_625159847640653352_n.jpg?_nc_ht=instagram.fbom13-1.fna.fbcdn.net&_nc_cat=101&_nc_ohc=eaDw6FSMdk4AX-1JmSA&edm=AMKDjl4BAAAA&ccb=7-4&ig_cache_key=Mjc0MTQ4MjEzMTg1ODc1ODU0Mw%3D%3D.2-ccb7-4&oh=00_AT9Q2nncDt159xjq2oKEGFxDI1pm6rE-lRfmlrn87S_ivw&oe=61D6494F&_nc_sid=1fe099',\n",
       " 'https://instagram.fbom13-1.fna.fbcdn.net/v/t51.2885-15/e35/271126183_1281289365672151_3815387882165158162_n.jpg?_nc_ht=instagram.fbom13-1.fna.fbcdn.net&_nc_cat=107&_nc_ohc=uqBPJXIHTQwAX_BsiBg&edm=AMKDjl4BAAAA&ccb=7-4&ig_cache_key=Mjc0MTQ4MjY0MTA3NDU3ODA5OQ%3D%3D.2-ccb7-4&oh=00_AT-b_14-_rT-AGwOUja00W8A4DFnK7F2K5XMMrtWX8gf3A&oe=61D61CF9&_nc_sid=1fe099',\n",
       " 'https://instagram.fbom13-1.fna.fbcdn.net/v/t51.2885-15/e35/270889273_374471941103730_3223665355976413528_n.jpg?_nc_ht=instagram.fbom13-1.fna.fbcdn.net&_nc_cat=106&_nc_ohc=0LRKTONfF0oAX-kZ23A&tn=uidcmiLv6mmJxPma&edm=AMKDjl4BAAAA&ccb=7-4&ig_cache_key=Mjc0MTQ4MTI4ODc4MDUyODU2OA%3D%3D.2-ccb7-4&oh=00_AT8flUb1iGGqxRNsfQGfU_sclqEVxPRFTjC3our8avBKlA&oe=61D766F1&_nc_sid=1fe099',\n",
       " 'https://instagram.fbom13-1.fna.fbcdn.net/v/t51.2885-15/e35/271177587_466056181699082_8460895629754177849_n.jpg?_nc_ht=instagram.fbom13-1.fna.fbcdn.net&_nc_cat=102&_nc_ohc=IxRroO_LJfIAX-2vXur&edm=AMKDjl4BAAAA&ccb=7-4&ig_cache_key=Mjc0MTQ4MjgwNzA0NDQ4NTQ1Mw%3D%3D.2-ccb7-4&oh=00_AT-oumEWC6Yj5TNSZKFpZ162HbqGDkYMtkZLU0l0FRTMZw&oe=61D770AB&_nc_sid=1fe099',\n",
       " 'https://instagram.fbom13-1.fna.fbcdn.net/v/t51.2885-15/e35/270656367_1329047587545627_5794001499624639154_n.jpg?_nc_ht=instagram.fbom13-1.fna.fbcdn.net&_nc_cat=103&_nc_ohc=wut1q_gZ6-YAX-KnkKa&edm=AMKDjl4BAAAA&ccb=7-4&ig_cache_key=Mjc0MTQ3NTUzOTk0MTU1NDkwOA%3D%3D.2-ccb7-4&oh=00_AT8fD5hm8Id2BhxSoGv6jYB-_oRPgiqTJqUnIgo3Ve_jLg&oe=61D6F195&_nc_sid=1fe099',\n",
       " 'https://instagram.fbom13-1.fna.fbcdn.net/v/t51.2885-15/e35/271184073_599337281124967_2322305318378246972_n.jpg?_nc_ht=instagram.fbom13-1.fna.fbcdn.net&_nc_cat=107&_nc_ohc=xAz5WNJ0idQAX-JTH2k&edm=AMKDjl4BAAAA&ccb=7-4&ig_cache_key=Mjc0MTQ4MTM3OTEzMTg2Njg5Mg%3D%3D.2-ccb7-4&oh=00_AT_OxbFZ0rtxdpylKHkRT4TrI--eLMQaSOyiHUcF5XAIyg&oe=61D6B80C&_nc_sid=1fe099',\n",
       " 'https://instagram.fbom13-1.fna.fbcdn.net/v/t51.2885-15/e35/271258813_254336456783130_7141746532334331595_n.jpg?_nc_ht=instagram.fbom13-1.fna.fbcdn.net&_nc_cat=106&_nc_ohc=nXgD8uGhUigAX9jVKc9&edm=AMKDjl4BAAAA&ccb=7-4&ig_cache_key=Mjc0MTQ4MjI1NTcwMzQ4MjM4MQ%3D%3D.2-ccb7-4&oh=00_AT-iED6iA2nr5fFylZ_gOLIa9iQpwak-QxhZ4KiYlYfHUw&oe=61D7D033&_nc_sid=1fe099',\n",
       " 'https://instagram.fbom13-1.fna.fbcdn.net/v/t51.2885-15/e35/271022825_137427988720473_7253297440735587826_n.jpg?_nc_ht=instagram.fbom13-1.fna.fbcdn.net&_nc_cat=109&_nc_ohc=c0I3L_K7NcEAX-HXWU6&edm=AMKDjl4BAAAA&ccb=7-4&ig_cache_key=Mjc0MTQ4MjIwODE5ODEyMDYwNQ%3D%3D.2-ccb7-4&oh=00_AT8YvaLmQBwK5FPRj_6kL5espKtEvjhQb941w9JSO0SBpg&oe=61D7F692&_nc_sid=1fe099',\n",
       " 'https://instagram.fbom13-1.fna.fbcdn.net/v/t51.2885-15/e35/271118168_505693757396763_8506929418646914464_n.jpg?_nc_ht=instagram.fbom13-1.fna.fbcdn.net&_nc_cat=103&_nc_ohc=EIVny_j28pEAX_6hX4Y&edm=AMKDjl4BAAAA&ccb=7-4&ig_cache_key=Mjc0MTQ4MjI4NTYzNDAwMDgwNQ%3D%3D.2-ccb7-4&oh=00_AT8toFFRRPSIynYIVBcEziViV__C7wiZR6yBtoURIWteig&oe=61D7AC29&_nc_sid=1fe099',\n",
       " 'https://instagram.fbom13-1.fna.fbcdn.net/v/t51.2885-15/e35/270915315_141398488308278_2995087063986267849_n.webp.jpg?_nc_ht=instagram.fbom13-1.fna.fbcdn.net&_nc_cat=102&_nc_ohc=n9iy8IwCdboAX8jtN6l&tn=uidcmiLv6mmJxPma&edm=AMKDjl4BAAAA&ccb=7-4&ig_cache_key=Mjc0MTQ4MjE3NzQ5NDY5OTk0Mg%3D%3D.2-ccb7-4&oh=00_AT-BFLwQ1qiiMfevuOyHoqwFDNPVMHX9ncvBpeoDmWJzZg&oe=61D7EB60&_nc_sid=1fe099',\n",
       " 'https://instagram.fbom13-1.fna.fbcdn.net/v/t51.2885-15/sh0.08/e35/p1080x1080/271178581_320191319962774_3761275768521809380_n.jpg?_nc_ht=instagram.fbom13-1.fna.fbcdn.net&_nc_cat=110&_nc_ohc=f9fDO1y2lqkAX9pbMv-&tn=uidcmiLv6mmJxPma&edm=AMKDjl4BAAAA&ccb=7-4&ig_cache_key=Mjc0MTQ4MTcyMDk1Mzc3NjgxMw%3D%3D.2-ccb7-4&oh=00_AT8oGWnRPAJUELA8Vau-QniBj852eSEh9ZIHEUWXsklwag&oe=61D64AD8&_nc_sid=1fe099',\n",
       " 'https://instagram.fbom13-1.fna.fbcdn.net/v/t51.2885-15/e35/271129883_1615338422136062_6474733839828558636_n.webp.jpg?_nc_ht=instagram.fbom13-1.fna.fbcdn.net&_nc_cat=102&_nc_ohc=SvK-Lu3rCugAX-IMKVp&tn=uidcmiLv6mmJxPma&edm=AMKDjl4BAAAA&ccb=7-4&ig_cache_key=Mjc0MTQ4MjM2NTQ3NjAwMDQzMQ%3D%3D.2-ccb7-4&oh=00_AT-o_xF-X8PtDsQhykMAN1O800xChgCHOoCcCNm8jQJqnw&oe=61D68E8E&_nc_sid=1fe099',\n",
       " 'https://www.instagram.com/static/images/web/mobile_nav_type_logo.png/735145cfe0a4.png',\n",
       " 'https://instagram.fbom13-1.fna.fbcdn.net/v/t51.2885-19/s150x150/229353373_945373359374191_4346863671719563325_n.jpg?_nc_ht=instagram.fbom13-1.fna.fbcdn.net&_nc_cat=107&_nc_ohc=Y8ElFokKrlUAX-S5oV0&edm=AIQHJ4wBAAAA&ccb=7-4&oh=00_AT8zQcvA4EEnHUJheOT96zYBvQ6OXV7pKL49AyDEG0aC5Q&oe=61D6AB44&_nc_sid=7b02f1']"
      ]
     },
     "execution_count": 16,
     "metadata": {},
     "output_type": "execute_result"
    }
   ],
   "source": [
    "driver.execute_script(\"window.scrollTo(0,4000);\")\n",
    "\n",
    "images = driver.find_elements_by_tag_name('img')\n",
    "images = [image.get_attribute('src') for image in images]\n",
    "images"
   ]
  },
  {
   "cell_type": "markdown",
   "id": "ee0b6337",
   "metadata": {},
   "source": [
    "# Save To Pc"
   ]
  },
  {
   "cell_type": "code",
   "execution_count": 17,
   "id": "ae16c63c",
   "metadata": {},
   "outputs": [
    {
     "data": {
      "text/plain": [
       "'F:\\\\Python Web-Scarping\\\\guitars'"
      ]
     },
     "execution_count": 17,
     "metadata": {},
     "output_type": "execute_result"
    }
   ],
   "source": [
    "path = os.getcwd()\n",
    "path = os.path.join(path, keyword[1:] + \"s\")\n",
    "\n",
    "os.mkdir(path)\n",
    "path"
   ]
  },
  {
   "cell_type": "code",
   "execution_count": 18,
   "id": "1488e6c9",
   "metadata": {},
   "outputs": [
    {
     "name": "stdout",
     "output_type": "stream",
     "text": [
      "100% [................................................................................] 4708 / 4708"
     ]
    }
   ],
   "source": [
    "cnt = 0\n",
    "for i in images:\n",
    "    save_as = os.path.join(path, keyword[1:] + str(cnt) + '.jpg')\n",
    "    wget.download(i, save_as)\n",
    "    cnt+=1"
   ]
  },
  {
   "cell_type": "code",
   "execution_count": null,
   "id": "e0a80134",
   "metadata": {},
   "outputs": [],
   "source": []
  }
 ],
 "metadata": {
  "kernelspec": {
   "display_name": "Python 3 (ipykernel)",
   "language": "python",
   "name": "python3"
  },
  "language_info": {
   "codemirror_mode": {
    "name": "ipython",
    "version": 3
   },
   "file_extension": ".py",
   "mimetype": "text/x-python",
   "name": "python",
   "nbconvert_exporter": "python",
   "pygments_lexer": "ipython3",
   "version": "3.8.8"
  }
 },
 "nbformat": 4,
 "nbformat_minor": 5
}
