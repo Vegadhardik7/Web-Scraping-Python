{
 "cells": [
  {
   "cell_type": "code",
   "execution_count": 1,
   "id": "48c5f128",
   "metadata": {},
   "outputs": [],
   "source": [
    "import os\n",
    "import time\n",
    "import wget\n",
    "from selenium import webdriver\n",
    "from selenium.webdriver.common.by import By\n",
    "from selenium.webdriver.common.keys import Keys\n",
    "from selenium.webdriver.support.wait import WebDriverWait\n",
    "from selenium.webdriver.support import expected_conditions as EC\n",
    "\n",
    "def webscrapeInsta(keyValues):\n",
    "    # Connect web driver to notebook\n",
    "    driver = webdriver.Chrome(\"F:/Python Web-Scarping/chromedriver.exe\")\n",
    "\n",
    "    # Specify which webpage we want to open\n",
    "    driver.get(\"https://www.instagram.com/\")\n",
    "    \n",
    "    username = WebDriverWait(driver, 10).until(EC.element_to_be_clickable((By.CSS_SELECTOR, \"input[name='username']\")))\n",
    "    password = WebDriverWait(driver, 10).until(EC.element_to_be_clickable((By.CSS_SELECTOR, \"input[name='password']\")))\n",
    "    \n",
    "    username.clear()\n",
    "    password.clear()\n",
    "    \n",
    "    username.send_keys(\"vegadhardik6969\")\n",
    "    password.send_keys(\"********\")\n",
    "    \n",
    "    log_in = WebDriverWait(driver, 10).until(EC.element_to_be_clickable((By.CSS_SELECTOR, \"button[type='submit']\")))\n",
    "    \n",
    "    log_in.click()\n",
    "    \n",
    "    not_now = WebDriverWait(driver, 10).until(EC.element_to_be_clickable((By.XPATH,\"//button[contains(text(),'Not Now')]\"))).click()\n",
    "    not_now2 = WebDriverWait(driver, 10).until(EC.element_to_be_clickable((By.XPATH,\"//button[contains(text(),'Not Now')]\"))).click()\n",
    "    \n",
    "    search_box = WebDriverWait(driver, 10).until(EC.element_to_be_clickable((By.XPATH, \"//input[@placeholder='Search']\")))\n",
    "    search_box.clear()\n",
    "    \n",
    "    keyword = keyValues  # Iterate id's over this\n",
    "    search_box.send_keys(keyword)\n",
    "    \n",
    "    # Enter Key\n",
    "    # Wait for 5 seconds\n",
    "    time.sleep(5)\n",
    "    search_box.send_keys(Keys.ENTER)\n",
    "    time.sleep(5)\n",
    "    search_box.send_keys(Keys.ENTER)\n",
    "    time.sleep(5)\n",
    "    \n",
    "    driver.execute_script(\"window.scrollTo(0,100000);\")\n",
    "\n",
    "    images = driver.find_elements_by_tag_name('img')\n",
    "    images = [image.get_attribute('src') for image in images]\n",
    "    \n",
    "    path = os.getcwd()\n",
    "    path = os.path.join(path, keyword + \"s\") # keyword[1:]  }  if we are using hashtags \n",
    "\n",
    "    os.mkdir(path)\n",
    "    \n",
    "    cnt = 0\n",
    "    for x in images:\n",
    "        save_as = os.path.join(path, keyword + str(cnt) + '.jpg')\n",
    "        wget.download(x, save_as)\n",
    "        cnt+=1\n",
    "        \n",
    "    return \"END\""
   ]
  },
  {
   "cell_type": "code",
   "execution_count": 2,
   "id": "cb8675e3",
   "metadata": {},
   "outputs": [
    {
     "name": "stdout",
     "output_type": "stream",
     "text": [
      "100% [................................................................................] 4708 / 4708"
     ]
    }
   ],
   "source": [
    "lst = ['infinitycode_x', 'deepikapadukone', 'python.learning']\n",
    "\n",
    "try:\n",
    "    for i in lst:\n",
    "        webscrapeInsta(i)\n",
    "except:\n",
    "    pass"
   ]
  },
  {
   "cell_type": "code",
   "execution_count": null,
   "id": "91dd5980",
   "metadata": {},
   "outputs": [],
   "source": []
  }
 ],
 "metadata": {
  "kernelspec": {
   "display_name": "Python 3 (ipykernel)",
   "language": "python",
   "name": "python3"
  },
  "language_info": {
   "codemirror_mode": {
    "name": "ipython",
    "version": 3
   },
   "file_extension": ".py",
   "mimetype": "text/x-python",
   "name": "python",
   "nbconvert_exporter": "python",
   "pygments_lexer": "ipython3",
   "version": "3.8.8"
  }
 },
 "nbformat": 4,
 "nbformat_minor": 5
}
