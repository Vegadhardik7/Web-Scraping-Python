{
 "cells": [
  {
   "cell_type": "code",
   "execution_count": 1,
   "id": "78a1b34f",
   "metadata": {},
   "outputs": [],
   "source": [
    "import os\n",
    "import time\n",
    "import wget\n",
    "from selenium import webdriver\n",
    "from selenium.webdriver.common.by import By\n",
    "from selenium.webdriver.common.keys import Keys\n",
    "from selenium.webdriver.chrome.options import Options\n",
    "from selenium.webdriver.support.wait import WebDriverWait\n",
    "from selenium.webdriver.support import expected_conditions as EC"
   ]
  },
  {
   "cell_type": "code",
   "execution_count": 2,
   "id": "352a7c24",
   "metadata": {},
   "outputs": [],
   "source": [
    "# URL's\n",
    "\n",
    "url_geekbuying = \"https://www.geekbuying.com/search?keyword=laptop\"\n",
    "url_automation = \"http://automationpractice.com/index.php \"\n",
    "\n",
    "\n",
    "\n",
    "# Initialize Chrome Driver\n",
    "driver = webdriver.Chrome(\"F:/Python Web-Scarping/chromedriver.exe\")\n",
    "driver.get(url_geekbuying)\n",
    "\n",
    "\n",
    "\n",
    "# Maximize The Window\n",
    "driver.maximize_window()"
   ]
  },
  {
   "cell_type": "markdown",
   "id": "385cd522",
   "metadata": {},
   "source": [
    "### Class Locators"
   ]
  },
  {
   "cell_type": "code",
   "execution_count": 13,
   "id": "e2325e36",
   "metadata": {
    "scrolled": true
   },
   "outputs": [
    {
     "name": "stdout",
     "output_type": "stream",
     "text": [
      "40\n"
     ]
    },
    {
     "data": {
      "text/plain": [
       "['31408.05',\n",
       " '29602.05',\n",
       " '94226.52',\n",
       " '1334.09',\n",
       " '784.44',\n",
       " '705.91',\n",
       " '8165.51',\n",
       " '5809.85',\n",
       " '1177.05',\n",
       " '784.44',\n",
       " '1648.18',\n",
       " '5731.33',\n",
       " '26618.21',\n",
       " '3925.32',\n",
       " '2354.88',\n",
       " '3061.58',\n",
       " '2354.88',\n",
       " '2590.44',\n",
       " '3925.32',\n",
       " '1852.34',\n",
       " '1726.70',\n",
       " '5024.63',\n",
       " '5024.63',\n",
       " '3140.10',\n",
       " '10678.22',\n",
       " '2354.88',\n",
       " '2433.40',\n",
       " '1334.09',\n",
       " '105218.83',\n",
       " '31408.05',\n",
       " '32978.50',\n",
       " '32193.28',\n",
       " '1962.27',\n",
       " '29052.39',\n",
       " '2511.92',\n",
       " '1962.27',\n",
       " '60932.36',\n",
       " '149191.20',\n",
       " '51038.58',\n",
       " '94225.73']"
      ]
     },
     "execution_count": 13,
     "metadata": {},
     "output_type": "execute_result"
    }
   ],
   "source": [
    "# Locators\n",
    "prices = driver.find_elements_by_xpath(\"//ul[@class='gridView']/li/div/div[3]\")\n",
    "print(len(prices))\n",
    "\n",
    "prices_lst = []\n",
    "\n",
    "\n",
    "# Prices In Rs\n",
    "for pri in prices:\n",
    "    prices_lst.append(pri.text[1:])\n",
    "    \n",
    "prices_lst"
   ]
  },
  {
   "cell_type": "code",
   "execution_count": 15,
   "id": "a744b461",
   "metadata": {
    "scrolled": true
   },
   "outputs": [
    {
     "name": "stdout",
     "output_type": "stream",
     "text": [
      "40\n"
     ]
    },
    {
     "data": {
      "text/plain": [
       "['LLDOCUBE KNote X Pro Tablet Laptop Intel Gemini Lake N4100 13.3 Inch 1080P FHD Screen Windows 10 8GB RAM 128GB ROM - Grey',\n",
       " 'UU Lepad 2-in-1 Tablet PC 12 inch 2K HD Touch Screen Intel Celeron Processor N3450 8GB RAM 256GB SSD Windows 10 5000 mAh Battery with Keyboard',\n",
       " 'iaomi Mi Notebook Air 13.3\" 1920*1080 Intel Core i5-8250U Quad Core 8GB DDR4 256GB SSD NVIDIA GeForce MX150 Fingerprints - Gray',\n",
       " 'aptop Bag with Headphone Output - Black',\n",
       " 'pprox! AAOARE0116 Portable Cooler for laptop 15.4',\n",
       " 'pprox! APPNBC05W Laptop Stand with Fan Black',\n",
       " 'rown Workstation Computer Desk Laptop Table',\n",
       " 'ogitech G502 HERO Proteus Spectrum Wired Adaptive Gaming Mouse 12000DPI USB Computer Mouse For PC / - Black',\n",
       " 'ortable Foldable Laptop Cooling Stand 4 Height Adjustable Non-slip Silicone For 11-17 Inch Notebook Tablet - White',\n",
       " 'pprox! APPNBC06W 15.4 Portable Cooler Laptop Coolers White',\n",
       " 'aptop Stand Black 30.5x28x(24.5-37.5) cm Steel',\n",
       " 'raper Tools Expert Technicians Laptop Tool Case Blue and Black 89209',\n",
       " 'UU A8S PRO Laptop 15.6\" 1920*1080 IPS Screen Intel J4125 8GB LPDDR4 256GB SSD Windows 10 5000mAh Battery EU Plug',\n",
       " 'iaomi Wowstick 1F + Electric Screwdriver Bits Toolkit for Reparing Phone Toy Laptop Digital Product - Gray',\n",
       " 'ogitech Pebble Wireless Mouse Bluetooth 2.4GHz Mute Dual Modes Portable For PC - Black',\n",
       " 'ogitech G302 Daedalus Prime MOBA Wired Optical Gaming Mouse Lightweight Design 4000 DPI For PC / - Black',\n",
       " 'ogitech Pebble Wireless Mouse Bluetooth 2.4GHz Mute Dual Modes Portable For PC - White',\n",
       " 'ogitech G300S Wired Gaming Mouse 9 Programmable Keys 2500DPI Ergonomic Shape For PC / - Black',\n",
       " 'ogitech C270 HD Vid 720P Webcam With MIC Micphone Video Calling for Android TV Box/PC/',\n",
       " '878 114-key LED Backlit Wired USB Gaming Keyboard Adjustable Brightness With Crack Pattern For Desktop / - Black',\n",
       " 'etal Plastic MDF Wood Folding Tray for Bed Laptop (40 x 28 x 60 cm)',\n",
       " 'iaomi 23L Sports Leisure Backpack Waterproof 15.6-inch Laptop Bag Outdoor Travel Rucksack - Gray',\n",
       " 'iaomi 23L Sports Leisure Backpack Waterproof 15.6-inch Laptop Bag Outdoor Travel Rucksack - Black',\n",
       " 'iaomi 23L Sports Leisure Backpack Waterproof 15.6-inch Laptop Bag Outdoor Travel Rucksack - Gray',\n",
       " 'RS200 Multifunctional Home Theater LED Projector 1500LM 800x480 with Keystone Correction for Desktop',\n",
       " 'iaomi Portable Mouse Mi Mouse Bluetooth 4.0 / RF 2.4GHz Wireless Dual Modes Connection for PC - Silver',\n",
       " 'GS GCX-400 GCX-400 17 LED Laptop Stand with Fan Black Blue',\n",
       " 'iaomi Wireless Mouse 2 Mute Portable Ultra-thin 2.4G Wireless 1000DPI For PC -White',\n",
       " 'ne Netbook 4 Platinum Laptop 360 Degree YOGA 10.1\" Touch Screen Intel Core i7-1160G7 16GB DDR4 RAM 512GB PCI-E SSD WiFi 6 Windows 10 Fingerprint - Black',\n",
       " 'enava PA156G Laptop Intel Celeron J4125 15.6 Inch 1920*1080 Windows 10 8GB RAM 256GB SSD - Silver',\n",
       " 'enava PA156G Laptop Intel Celeron J4125 15.6 Inch 1920*1080 Windows 10 8GB RAM 512GB SSD - Silver',\n",
       " 'ERE X156 15.6 Inch Laptop Intel Celeron J4115 1920*1080 FHD 8GB DDR4 512G SSD Windows 10 HDMI Output - Silver',\n",
       " 'axmemory X200 64GB SATA3 High Speed SSD 2.5 Inch Solid State Drive Hard Disk For PC - Black',\n",
       " 'enava PA156G Laptop Intel Celeron J4125 15.6 Inch 1920*1080 Windows 10 8GB RAM 128GB SSD - Silver',\n",
       " 'XSJ S3 1080P HD Webcam 5MP Auto Focus Built-in Microphone Adjustable Angle Support Video Conference For Desktop PC / - Black',\n",
       " 'XSJ S90 720P HD Webcam USB Compatible Adjustable Angle Automatic Color Correction Built-in Sound-absorbing Microphone For Desktop TV - Black',\n",
       " 'UU A5 Laptop 15.6 inch 1920 x1080p IPS Screen Intel Core i5-11300H 16GB RAM 512GB SSD Windows 10 QWERTY Keyboard 4700mAh Battery - Dark Gray',\n",
       " 'ne Netbook 4 Platinum Laptop 360 Degree YOGA 10.1\" Touch Screen Intel Core i7-1160G7 16GB DDR4 RAM 1TB PCI-E SSD WiFi 6 Windows 10 Fingerprint - Black',\n",
       " 'UU G3 Laptop 15.6\" IPS Screen AMD Ryzen R5 4600H 8GB DDR4 RAM 512GB SSD AMD Radeon Graphics 48Wh Battery Capacity Windows 10 Pro EU Plug - Silver',\n",
       " 'ne Netbook ONEXPLAYER 1S Game Console PC 8.4 Inch Pocket Computer i7-1195G7 16GB RAM 1TB SSD IPS Touch Screen Windows 10 EU Plug']"
      ]
     },
     "execution_count": 15,
     "metadata": {},
     "output_type": "execute_result"
    }
   ],
   "source": [
    "# //ul[@class='gridView']/li/div/div[2]/a\n",
    "\n",
    "# Locators\n",
    "product = driver.find_elements_by_xpath(\"//ul[@class='gridView']/li/div/div[2]/a\")\n",
    "print(len(product))\n",
    "\n",
    "product_lst = []\n",
    "\n",
    "\n",
    "# Product Name\n",
    "for pri in product:\n",
    "    product_lst.append(pri.text[1:])\n",
    "    \n",
    "product_lst"
   ]
  },
  {
   "cell_type": "code",
   "execution_count": 17,
   "id": "30d5c7de",
   "metadata": {},
   "outputs": [
    {
     "data": {
      "text/html": [
       "<div>\n",
       "<style scoped>\n",
       "    .dataframe tbody tr th:only-of-type {\n",
       "        vertical-align: middle;\n",
       "    }\n",
       "\n",
       "    .dataframe tbody tr th {\n",
       "        vertical-align: top;\n",
       "    }\n",
       "\n",
       "    .dataframe thead th {\n",
       "        text-align: right;\n",
       "    }\n",
       "</style>\n",
       "<table border=\"1\" class=\"dataframe\">\n",
       "  <thead>\n",
       "    <tr style=\"text-align: right;\">\n",
       "      <th></th>\n",
       "      <th>Product</th>\n",
       "      <th>Price in RS</th>\n",
       "    </tr>\n",
       "  </thead>\n",
       "  <tbody>\n",
       "    <tr>\n",
       "      <th>0</th>\n",
       "      <td>LLDOCUBE KNote X Pro Tablet Laptop Intel Gemin...</td>\n",
       "      <td>31408.05</td>\n",
       "    </tr>\n",
       "    <tr>\n",
       "      <th>1</th>\n",
       "      <td>UU Lepad 2-in-1 Tablet PC 12 inch 2K HD Touch ...</td>\n",
       "      <td>29602.05</td>\n",
       "    </tr>\n",
       "    <tr>\n",
       "      <th>2</th>\n",
       "      <td>iaomi Mi Notebook Air 13.3\" 1920*1080 Intel Co...</td>\n",
       "      <td>94226.52</td>\n",
       "    </tr>\n",
       "    <tr>\n",
       "      <th>3</th>\n",
       "      <td>aptop Bag with Headphone Output - Black</td>\n",
       "      <td>1334.09</td>\n",
       "    </tr>\n",
       "    <tr>\n",
       "      <th>4</th>\n",
       "      <td>pprox! AAOARE0116 Portable Cooler for laptop 15.4</td>\n",
       "      <td>784.44</td>\n",
       "    </tr>\n",
       "  </tbody>\n",
       "</table>\n",
       "</div>"
      ],
      "text/plain": [
       "                                             Product Price in RS\n",
       "0  LLDOCUBE KNote X Pro Tablet Laptop Intel Gemin...    31408.05\n",
       "1  UU Lepad 2-in-1 Tablet PC 12 inch 2K HD Touch ...    29602.05\n",
       "2  iaomi Mi Notebook Air 13.3\" 1920*1080 Intel Co...    94226.52\n",
       "3            aptop Bag with Headphone Output - Black     1334.09\n",
       "4  pprox! AAOARE0116 Portable Cooler for laptop 15.4      784.44"
      ]
     },
     "execution_count": 17,
     "metadata": {},
     "output_type": "execute_result"
    }
   ],
   "source": [
    "import pandas as pd\n",
    "\n",
    "dic = {\"Product\":product_lst,\"Price in RS\":prices_lst}\n",
    "\n",
    "df = pd.DataFrame(dic)\n",
    "df.head()"
   ]
  },
  {
   "cell_type": "markdown",
   "id": "281f3ab4",
   "metadata": {},
   "source": [
    "### Id Locators"
   ]
  },
  {
   "cell_type": "code",
   "execution_count": 30,
   "id": "53301157",
   "metadata": {},
   "outputs": [],
   "source": [
    "# Initialize Chrome Driver\n",
    "driver = webdriver.Chrome(\"F:/Python Web-Scarping/chromedriver.exe\")\n",
    "driver.get(url_automation)\n",
    "time.sleep(5)\n",
    "\n",
    "# Maximize The Window\n",
    "driver.maximize_window()"
   ]
  },
  {
   "cell_type": "code",
   "execution_count": 32,
   "id": "94acfb75",
   "metadata": {},
   "outputs": [],
   "source": [
    "# Going To Search Box\n",
    "search = driver.find_element_by_id('search_query_top')\n",
    "\n",
    "\n",
    "# Clicking On Search Box\n",
    "search.click()\n",
    "time.sleep(1)\n",
    "\n",
    "\n",
    "# Search Element\n",
    "keyword = 'Dress'\n",
    "search.send_keys(keyword)\n",
    "time.sleep(2)\n",
    "search.send_keys(Keys.ENTER)\n",
    "time.sleep(2)"
   ]
  },
  {
   "cell_type": "markdown",
   "id": "7201023e",
   "metadata": {},
   "source": [
    "### Name Locator"
   ]
  },
  {
   "cell_type": "code",
   "execution_count": 29,
   "id": "f17802da",
   "metadata": {},
   "outputs": [],
   "source": [
    "search_button = driver.find_element_by_name('submit_search')\n",
    "\n",
    "search_button.click()\n",
    "\n",
    "\n",
    "# ^------- is an alternative of search.send_keys(Keys.ENTER)"
   ]
  },
  {
   "cell_type": "markdown",
   "id": "bb6e3c18",
   "metadata": {},
   "source": [
    "### LinkText-Locator"
   ]
  },
  {
   "cell_type": "code",
   "execution_count": 36,
   "id": "0a3bbca3",
   "metadata": {},
   "outputs": [],
   "source": [
    "# Initialize Chrome Driver\n",
    "driver = webdriver.Chrome(\"F:/Python Web-Scarping/chromedriver.exe\")\n",
    "driver.get(url_automation)\n",
    "\n",
    "# Maximize The Window\n",
    "driver.maximize_window()\n",
    "time.sleep(5)\n",
    "\n",
    "contact = driver.find_element_by_link_text(\"Contact us\")\n",
    "contact.click()"
   ]
  },
  {
   "cell_type": "markdown",
   "id": "72544c79",
   "metadata": {},
   "source": [
    "### Partial LinkText-Locator"
   ]
  },
  {
   "cell_type": "code",
   "execution_count": 39,
   "id": "1828eee1",
   "metadata": {},
   "outputs": [],
   "source": [
    "# Initialize Chrome Driver\n",
    "driver = webdriver.Chrome(\"F:/Python Web-Scarping/chromedriver.exe\")\n",
    "driver.get(url_automation)\n",
    "\n",
    "# Maximize The Window\n",
    "driver.maximize_window()\n",
    "time.sleep(5)\n",
    "\n",
    "\n",
    "# contact_partial = driver.find_element_by_partial_link_text(\"ntac us\")\n",
    "# contact_partial.click()"
   ]
  },
  {
   "cell_type": "markdown",
   "id": "7af7c274",
   "metadata": {},
   "source": [
    "### Different way to use locator"
   ]
  },
  {
   "cell_type": "code",
   "execution_count": null,
   "id": "a88709fc",
   "metadata": {},
   "outputs": [],
   "source": [
    "# Option 1 XPath Locator:   \n",
    "prices = driver.find_elements_by_xpath(\"//ul[@class='gridView']/li/div/div[3]\")\n",
    "\n",
    "# Option 1 ID Locator:\n",
    "search = driver.find_element_by_id('search_query_top')"
   ]
  },
  {
   "cell_type": "code",
   "execution_count": null,
   "id": "b32b72e6",
   "metadata": {},
   "outputs": [],
   "source": [
    "# Option 2 XPath Locator: \n",
    "price_2 = driver.find_elements(By.XPATH(\"//ul[@class='gridView']/li/div/div[3]\"))\n",
    "\n",
    "# Option 2 ID Locator:\n",
    "search_2 = driver.find_elements(By.ID('search_query_top'))"
   ]
  },
  {
   "cell_type": "markdown",
   "id": "69a4bab3",
   "metadata": {},
   "source": [
    "### Selenium In Action"
   ]
  },
  {
   "cell_type": "code",
   "execution_count": 46,
   "id": "16a13f85",
   "metadata": {},
   "outputs": [],
   "source": [
    "# Initialize Chrome Driver\n",
    "driver = webdriver.Chrome(\"F:/Python Web-Scarping/chromedriver.exe\")\n",
    "driver.get(url_automation)\n",
    "\n",
    "# Maximize The Window\n",
    "driver.maximize_window()\n",
    "time.sleep(5)\n",
    "\n",
    "# ----------------------------------------------------------------------------------------------------------------------\n",
    "\n",
    "# Going To Search Box\n",
    "search = driver.find_element_by_id('search_query_top')\n",
    "\n",
    "# Clicking On Search Box\n",
    "search.click()\n",
    "time.sleep(1)\n",
    "\n",
    "# ----------------------------------------------------------------------------------------------------------------------\n",
    "\n",
    "# Search Element\n",
    "keyword = 'Dress'\n",
    "search.send_keys(keyword)\n",
    "time.sleep(2)\n",
    "search.send_keys(Keys.ENTER)\n",
    "time.sleep(2)\n",
    "\n",
    "# ----------------------------------------------------------------------------------------------------------------------\n",
    "\n",
    "# Go back\n",
    "driver.back()\n",
    "\n",
    "\n",
    "# ----------------------------------------------------------------------------------------------------------------------\n",
    "\n",
    "# Click contact us \n",
    "contact = driver.find_element_by_link_text(\"Contact us\")\n",
    "contact.click()\n",
    "time.sleep(2)\n",
    "\n",
    "# ----------------------------------------------------------------------------------------------------------------------\n",
    "\n",
    "# Close Driver\n",
    "driver.close()"
   ]
  },
  {
   "cell_type": "markdown",
   "id": "de1dc15c",
   "metadata": {},
   "source": [
    "### Run Every Thing But Show Nothing"
   ]
  },
  {
   "cell_type": "code",
   "execution_count": 47,
   "id": "c8c4542a",
   "metadata": {},
   "outputs": [
    {
     "name": "stdout",
     "output_type": "stream",
     "text": [
      "Window Opened \n",
      "\n",
      "Window Maximize \n",
      "\n",
      "Reached Search Bar \n",
      "\n",
      "Clicked Search Bar \n",
      "\n",
      "Value Entered \n",
      "\n",
      "Enter Pressed \n",
      "\n",
      "Head Backwards \n",
      "\n",
      "Clicked Contact us \n",
      "\n",
      "*** END ***\n"
     ]
    }
   ],
   "source": [
    "# Here we can add print statements to check out code conditions\n",
    "\n",
    "chrome_options = Options()\n",
    "chrome_options.add_argument(\"--headless\")\n",
    "\n",
    "\n",
    "# Initialize Chrome Driver\n",
    "print(\"Window Opened \\n\")\n",
    "driver = webdriver.Chrome(\"F:/Python Web-Scarping/chromedriver.exe\", options=chrome_options)\n",
    "driver.get(url_automation)\n",
    "\n",
    "# Maximize The Window\n",
    "print(\"Window Maximize \\n\")\n",
    "driver.maximize_window()\n",
    "time.sleep(5)\n",
    "\n",
    "\n",
    "# ----------------------------------------------------------------------------------------------------------------------\n",
    "\n",
    "# Going To Search Box\n",
    "print(\"Reached Search Bar \\n\")\n",
    "search = driver.find_element_by_id('search_query_top')\n",
    "\n",
    "# Clicking On Search Box\n",
    "print(\"Clicked Search Bar \\n\")\n",
    "search.click()\n",
    "time.sleep(1)\n",
    "\n",
    "# ----------------------------------------------------------------------------------------------------------------------\n",
    "\n",
    "# Search Element\n",
    "print(\"Value Entered \\n\")\n",
    "keyword = 'Dress'\n",
    "search.send_keys(keyword)\n",
    "time.sleep(2)\n",
    "print(\"Enter Pressed \\n\")\n",
    "search.send_keys(Keys.ENTER)\n",
    "time.sleep(2)\n",
    "\n",
    "# ----------------------------------------------------------------------------------------------------------------------\n",
    "\n",
    "# Go back\n",
    "print(\"Head Backwards \\n\")\n",
    "driver.back()\n",
    "\n",
    "# ----------------------------------------------------------------------------------------------------------------------\n",
    "\n",
    "# Click contact us\n",
    "print(\"Clicked Contact us \\n\")\n",
    "contact = driver.find_element_by_link_text(\"Contact us\")\n",
    "contact.click()\n",
    "time.sleep(2)\n",
    "\n",
    "# ----------------------------------------------------------------------------------------------------------------------\n",
    "\n",
    "# Close Driver\n",
    "print(\"*** END ***\")\n",
    "driver.close()"
   ]
  },
  {
   "cell_type": "code",
   "execution_count": null,
   "id": "c8967721",
   "metadata": {},
   "outputs": [],
   "source": []
  }
 ],
 "metadata": {
  "kernelspec": {
   "display_name": "Python 3 (ipykernel)",
   "language": "python",
   "name": "python3"
  },
  "language_info": {
   "codemirror_mode": {
    "name": "ipython",
    "version": 3
   },
   "file_extension": ".py",
   "mimetype": "text/x-python",
   "name": "python",
   "nbconvert_exporter": "python",
   "pygments_lexer": "ipython3",
   "version": "3.8.8"
  }
 },
 "nbformat": 4,
 "nbformat_minor": 5
}
